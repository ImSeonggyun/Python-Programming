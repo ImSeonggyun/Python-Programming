{
  "nbformat": 4,
  "nbformat_minor": 0,
  "metadata": {
    "colab": {
      "provenance": [],
      "include_colab_link": true
    },
    "kernelspec": {
      "name": "python3",
      "display_name": "Python 3"
    },
    "language_info": {
      "name": "python"
    }
  },
  "cells": [
    {
      "cell_type": "markdown",
      "metadata": {
        "id": "view-in-github",
        "colab_type": "text"
      },
      "source": [
        "<a href=\"https://colab.research.google.com/github/ImSeonggyun/Python-Programming/blob/note/5%EA%B0%95_%EC%8B%A4%EC%8A%B5(%EC%9B%90%EB%B3%B8).ipynb\" target=\"_parent\"><img src=\"https://colab.research.google.com/assets/colab-badge.svg\" alt=\"Open In Colab\"/></a>"
      ]
    },
    {
      "cell_type": "markdown",
      "source": [
        "# 5강 2절"
      ],
      "metadata": {
        "id": "QaMMtoihlN9D"
      }
    },
    {
      "cell_type": "markdown",
      "source": [
        "삼각형 출력하기"
      ],
      "metadata": {
        "id": "zsVGhzcxlSh2"
      }
    },
    {
      "cell_type": "code",
      "execution_count": 5,
      "metadata": {
        "id": "Uzg7FWgclGzv",
        "colab": {
          "base_uri": "https://localhost:8080/"
        },
        "outputId": "6b668899-bf52-40d3-c84f-3d756b206b1c"
      },
      "outputs": [
        {
          "output_type": "stream",
          "name": "stdout",
          "text": [
            "   *\n",
            "  ***\n",
            " *****\n",
            "*******\n"
          ]
        }
      ],
      "source": [
        "print(\"   *\")\n",
        "print(\"  ***\")\n",
        "print(\" *****\")\n",
        "print(\"*******\")"
      ]
    },
    {
      "cell_type": "code",
      "source": [
        "rad = input(\"반지름의 값을 입력하세요: \")"
      ],
      "metadata": {
        "colab": {
          "base_uri": "https://localhost:8080/"
        },
        "id": "IlkYI-fGzQTd",
        "outputId": "f12fb916-5aed-43c9-af93-d2fb99c2a2df"
      },
      "execution_count": 8,
      "outputs": [
        {
          "name": "stdout",
          "output_type": "stream",
          "text": [
            "반지름의 값을 입력하세요: 30\n"
          ]
        }
      ]
    },
    {
      "cell_type": "markdown",
      "source": [
        "원뿔 계산 프로그램 개선"
      ],
      "metadata": {
        "id": "o1aoIihhlrBZ"
      }
    },
    {
      "cell_type": "code",
      "source": [
        "#반지름, 높이 값 할당\n",
        "rad = int(input(\"반지름의 값을 입력하세요: \"))\n",
        "hei = int(input(\"높이 값을 입력하세요: \"))\n",
        "#부피 출력\n",
        "vol = 1/3 * 3.14 * rad ** 2 * hei\n",
        "print(\"부피의 값은 \", vol, \"입니다.\", sep=\"\")\n",
        "#겉넓이 출력\n",
        "suf = 3.14 * rad ** 2 + 3.14 * rad * hei\n",
        "print(\"겉넓이의 값은 \",suf,\"입니다.\", sep=\"\")"
      ],
      "metadata": {
        "id": "jzJqpbKgluL7",
        "colab": {
          "base_uri": "https://localhost:8080/"
        },
        "outputId": "c0aeb3aa-a29f-4fd0-92bb-a1a3691afca4"
      },
      "execution_count": 16,
      "outputs": [
        {
          "output_type": "stream",
          "name": "stdout",
          "text": [
            "반지름의 값을 입력하세요: 5\n",
            "높이 값을 입력하세요: 12\n",
            "부피의 값은 314.0입니다.\n",
            "겉넓이의 값은 266.9입니다.\n"
          ]
        }
      ]
    }
  ]
}