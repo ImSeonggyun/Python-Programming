{
  "nbformat": 4,
  "nbformat_minor": 0,
  "metadata": {
    "colab": {
      "provenance": [],
      "authorship_tag": "ABX9TyP8+x4vwiZYIiOWgH7F8ze4",
      "include_colab_link": true
    },
    "kernelspec": {
      "name": "python3",
      "display_name": "Python 3"
    },
    "language_info": {
      "name": "python"
    }
  },
  "cells": [
    {
      "cell_type": "markdown",
      "metadata": {
        "id": "view-in-github",
        "colab_type": "text"
      },
      "source": [
        "<a href=\"https://colab.research.google.com/github/jaehwachung/Python-Programming/blob/main/11%EA%B0%95_%EC%8B%A4%EC%8A%B5(%EC%9B%90%EB%B3%B8).ipynb\" target=\"_parent\"><img src=\"https://colab.research.google.com/assets/colab-badge.svg\" alt=\"Open In Colab\"/></a>"
      ]
    },
    {
      "cell_type": "markdown",
      "source": [
        "# 11강 실습"
      ],
      "metadata": {
        "id": "EtjZiTaxLjdH"
      }
    },
    {
      "cell_type": "markdown",
      "source": [
        "**11강 1절**"
      ],
      "metadata": {
        "id": "dM5Jl78KLnIG"
      }
    },
    {
      "cell_type": "markdown",
      "source": [
        "dir, help 함수 테스트"
      ],
      "metadata": {
        "id": "jLudepg7Lv6Y"
      }
    },
    {
      "cell_type": "code",
      "execution_count": null,
      "metadata": {
        "id": "QjtNEdkcynR7"
      },
      "outputs": [],
      "source": []
    },
    {
      "cell_type": "markdown",
      "source": [
        "math 모듈을 사용한 원뿔 계산 프로그램"
      ],
      "metadata": {
        "id": "BZcxx1KcM2eF"
      }
    },
    {
      "cell_type": "code",
      "source": [],
      "metadata": {
        "id": "ZJwXQoQIM7uw"
      },
      "execution_count": null,
      "outputs": []
    },
    {
      "cell_type": "markdown",
      "source": [],
      "metadata": {
        "id": "A2gzGR3nM8nI"
      }
    },
    {
      "cell_type": "markdown",
      "source": [
        "**11강 2절**"
      ],
      "metadata": {
        "id": "MwGVxn3sLy8T"
      }
    }
  ]
}