{
  "nbformat": 4,
  "nbformat_minor": 0,
  "metadata": {
    "colab": {
      "name": "helloworld.ipynb",
      "provenance": [],
      "collapsed_sections": [],
      "authorship_tag": "ABX9TyM0iYEPakKmqP4a06X/uRTC"
    },
    "kernelspec": {
      "name": "python3",
      "display_name": "Python 3"
    },
    "language_info": {
      "name": "python"
    }
  },
  "cells": [
    {
      "cell_type": "code",
      "execution_count": null,
      "metadata": {
        "colab": {
          "base_uri": "https://localhost:8080/"
        },
        "id": "TGPTyGJLAAuI",
        "outputId": "7cdc11f6-178b-403b-839a-98f9a472ea6b"
      },
      "outputs": [
        {
          "output_type": "stream",
          "name": "stdout",
          "text": [
            "hello world!\n"
          ]
        }
      ],
      "source": [
        "print(\"hello world!\")"
      ]
    },
    {
      "cell_type": "code",
      "source": [
        "a = (5 + 9) * 32\n",
        "print(\"result is\", a)"
      ],
      "metadata": {
        "id": "eouBwJBTXy10",
        "colab": {
          "base_uri": "https://localhost:8080/"
        },
        "outputId": "fdd507b7-e9f3-4af1-bfb0-33085af4927f"
      },
      "execution_count": null,
      "outputs": [
        {
          "output_type": "stream",
          "name": "stdout",
          "text": [
            "result is 448\n"
          ]
        }
      ]
    }
  ]
}