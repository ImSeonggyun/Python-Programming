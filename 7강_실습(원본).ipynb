{
  "nbformat": 4,
  "nbformat_minor": 0,
  "metadata": {
    "colab": {
      "provenance": [],
      "authorship_tag": "ABX9TyOS3v5aqefkkU/Ls+FJvwTs",
      "include_colab_link": true
    },
    "kernelspec": {
      "name": "python3",
      "display_name": "Python 3"
    },
    "language_info": {
      "name": "python"
    }
  },
  "cells": [
    {
      "cell_type": "markdown",
      "metadata": {
        "id": "view-in-github",
        "colab_type": "text"
      },
      "source": [
        "<a href=\"https://colab.research.google.com/github/jaehwachung/Python-Programming/blob/main/7%EA%B0%95_%EC%8B%A4%EC%8A%B5(%EC%9B%90%EB%B3%B8).ipynb\" target=\"_parent\"><img src=\"https://colab.research.google.com/assets/colab-badge.svg\" alt=\"Open In Colab\"/></a>"
      ]
    },
    {
      "cell_type": "markdown",
      "source": [
        "# 7강 1절"
      ],
      "metadata": {
        "id": "J-bN6rMlvDGe"
      }
    },
    {
      "cell_type": "code",
      "execution_count": null,
      "metadata": {
        "id": "9pzywTqbu-M8"
      },
      "outputs": [],
      "source": [
        "sum = sum + i\n"
      ]
    },
    {
      "cell_type": "code",
      "source": [
        "base = int(input(\"출력할 단을 입력하세요: \"))\n",
        "\n"
      ],
      "metadata": {
        "id": "Qpef1B4avXCU"
      },
      "execution_count": null,
      "outputs": []
    },
    {
      "cell_type": "markdown",
      "source": [
        "# 7강 2절 "
      ],
      "metadata": {
        "id": "9vqH3vtHvPug"
      }
    },
    {
      "cell_type": "code",
      "source": [
        "# 리스트 생성\n",
        "hei_list = [1, 4, 14, 26, 31]\n",
        "\n",
        "for hei in hei_list :\n"
      ],
      "metadata": {
        "id": "gIINGTOsvr9b"
      },
      "execution_count": null,
      "outputs": []
    },
    {
      "cell_type": "code",
      "source": [],
      "metadata": {
        "id": "eQy5d_Y6vuTi"
      },
      "execution_count": null,
      "outputs": []
    },
    {
      "cell_type": "markdown",
      "source": [
        "# 7강 3절 "
      ],
      "metadata": {
        "id": "r9X6IeLNvRmJ"
      }
    }
  ]
}