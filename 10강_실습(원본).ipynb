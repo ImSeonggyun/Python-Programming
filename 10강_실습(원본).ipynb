{
  "nbformat": 4,
  "nbformat_minor": 0,
  "metadata": {
    "colab": {
      "provenance": [],
      "authorship_tag": "ABX9TyP8k0gIJDwZeI27yC0rvP5p",
      "include_colab_link": true
    },
    "kernelspec": {
      "name": "python3",
      "display_name": "Python 3"
    },
    "language_info": {
      "name": "python"
    }
  },
  "cells": [
    {
      "cell_type": "markdown",
      "metadata": {
        "id": "view-in-github",
        "colab_type": "text"
      },
      "source": [
        "<a href=\"https://colab.research.google.com/github/jaehwachung/Python-Programming/blob/main/10%EA%B0%95_%EC%8B%A4%EC%8A%B5(%EC%9B%90%EB%B3%B8).ipynb\" target=\"_parent\"><img src=\"https://colab.research.google.com/assets/colab-badge.svg\" alt=\"Open In Colab\"/></a>"
      ]
    },
    {
      "cell_type": "markdown",
      "source": [
        "# 10강 실습"
      ],
      "metadata": {
        "id": "uDkEgwpZl1f1"
      }
    },
    {
      "cell_type": "markdown",
      "source": [
        "**10강 1절**"
      ],
      "metadata": {
        "id": "vqzxKFmRl5Y5"
      }
    },
    {
      "cell_type": "code",
      "execution_count": null,
      "metadata": {
        "id": "FTNaN-iHlnNO"
      },
      "outputs": [],
      "source": []
    },
    {
      "cell_type": "markdown",
      "source": [
        "이름, 나이, 몸무게, 키를 데이터 필드로 사용하는 BMI 클래스를 정의하는 프로그램을 작성하시오.\n"
      ],
      "metadata": {
        "id": "HsNWnbtzmLaJ"
      }
    },
    {
      "cell_type": "markdown",
      "source": [
        "**10강 2절**"
      ],
      "metadata": {
        "id": "6U85Qliel_N7"
      }
    },
    {
      "cell_type": "markdown",
      "source": [
        "**10강 3절**\n"
      ],
      "metadata": {
        "id": "CAMthAFhmBAf"
      }
    }
  ]
}